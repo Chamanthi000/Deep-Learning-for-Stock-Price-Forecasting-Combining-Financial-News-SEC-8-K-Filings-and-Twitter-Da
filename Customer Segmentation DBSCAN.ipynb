{
 "cells": [
  {
   "cell_type": "code",
   "execution_count": 4,
   "id": "58242ff1",
   "metadata": {},
   "outputs": [],
   "source": [
    "import numpy as np\n",
    "import pandas as pd\n",
    "import sklearn.metrics as metrics\n",
    "from sklearn import preprocessing\n",
    "from sklearn.cluster import DBSCAN\n",
    "from sklearn.feature_selection import SelectKBest, chi2"
   ]
  },
  {
   "cell_type": "code",
   "execution_count": 5,
   "id": "19a3a693",
   "metadata": {},
   "outputs": [],
   "source": [
    "# import datasets\n",
    "orders = pd.read_csv('./data/olist_orders_dataset.csv')\n",
    "customers = pd.read_csv('./data/olist_customers_dataset.csv')\n",
    "products_translations = pd.read_csv('./data/product_category_name_translation.csv')\n",
    "products = pd.read_csv(\"./data/olist_products_dataset.csv\")\n",
    "orderreviews_data = pd.read_csv('./data/olist_order_reviews_dataset.csv')\n",
    "order_items = pd.read_csv(\"./data/olist_order_items_dataset.csv\")\n",
    "payments = pd.read_csv('./data/olist_order_payments_dataset.csv')"
   ]
  },
  {
   "cell_type": "code",
   "execution_count": 6,
   "id": "2abd0de0",
   "metadata": {},
   "outputs": [],
   "source": [
    "# convert the order delivered carrier date into specified format\n",
    "orders['order_delivered_carrier_date'] = orders[['order_delivered_carrier_date']] \\\n",
    "    .apply(lambda x: pd.to_datetime(x, errors='coerce', format='%Y-%m-%d %H:%M:%S')) \\\n",
    "    .apply(lambda x: x.dt.date) \\\n",
    "    .astype('datetime64')"
   ]
  },
  {
   "cell_type": "code",
   "execution_count": 7,
   "id": "658b5770",
   "metadata": {},
   "outputs": [],
   "source": [
    "# drop nulls from order delivered carrier date\n",
    "orders = orders.dropna(subset=['order_delivered_carrier_date'])"
   ]
  },
  {
   "cell_type": "code",
   "execution_count": 8,
   "id": "82b4212f",
   "metadata": {},
   "outputs": [],
   "source": [
    "# We'll be taking the recent day plus 1 day as the present date for the rfm analysis\n",
    "recent_date = orders['order_delivered_carrier_date'].max() + timedelta(days=1)"
   ]
  },
  {
   "cell_type": "code",
   "execution_count": 9,
   "id": "89c3acc5",
   "metadata": {},
   "outputs": [],
   "source": [
    "# form the rfm dataframe by grouping by customer id and using aggregations\n",
    "rfm_df = merged_data.groupby('customer_id').agg(\n",
    "    recency=('order_delivered_carrier_date', lambda x: (recent_date - x.max()).days),\n",
    "    frequency=('payment_sequential', 'count'),\n",
    "    monetary=('payment_value', 'sum'))"
   ]
  },
  {
   "cell_type": "code",
   "execution_count": 10,
   "id": "28ed77c4",
   "metadata": {},
   "outputs": [],
   "source": [
    "# drop outliers which are outside the interquantile range\n",
    "def drop_outliers(df, column):\n",
    "    quantile1 = df[column].quantile(0.05)\n",
    "    quantile3 = df[column].quantile(0.95)\n",
    "    iqr = quantile3 - quantile1\n",
    "    high_fence = quantile3 + 1.5 * iqr\n",
    "    low_fence = quantile1 - 1.5 * iqr\n",
    "    outliers_index = df.loc[(df[column] < low_fence) | (df[column] > high_fence)].index\n",
    "    df = pd.DataFrame(df.drop(outliers_index.to_list(), axis=0, inplace=True))\n",
    "    return df"
   ]
  },
  {
   "cell_type": "code",
   "execution_count": 11,
   "id": "4cbbd2fe",
   "metadata": {},
   "outputs": [],
   "source": [
    "drop_outliers(rfm_df, 'frequency')"
   ]
  },
  {
   "cell_type": "code",
   "execution_count": 12,
   "id": "685a8664",
   "metadata": {},
   "outputs": [],
   "source": [
    "drop_outliers(rfm_df, 'monetary')"
   ]
  },
  {
   "cell_type": "markdown",
   "id": "7ea764cf",
   "metadata": {},
   "source": [
    "### Assign Scores for each column"
   ]
  },
  {
   "cell_type": "code",
   "execution_count": 13,
   "id": "93b0c813",
   "metadata": {},
   "outputs": [],
   "source": [
    "rfm_df[\"recency_score\"] = pd.qcut(rfm_df['recency'], 5, labels=[5, 4, 3, 2, 1])\n",
    "rfm_df[\"frequency_score\"] = pd.qcut(rfm_df['frequency'].rank(method=\"first\"), 5, labels=[1, 2, 3, 4, 5])\n",
    "rfm_df[\"monetary_score\"] = pd.qcut(rfm_df['monetary'], 5, labels=[1, 2, 3, 4, 5])"
   ]
  },
  {
   "cell_type": "code",
   "execution_count": 14,
   "id": "b3e38934",
   "metadata": {},
   "outputs": [],
   "source": [
    "# club all the recency, frequency and monetary scores together to get asingle rfm score\n",
    "rfm_df['rfm_score'] = rfm_df.recency_score.astype(str) + rfm_df.frequency_score.astype(\n",
    "    str) + rfm_df.monetary_score.astype(str)"
   ]
  },
  {
   "cell_type": "code",
   "execution_count": 15,
   "id": "f89e7f5f",
   "metadata": {},
   "outputs": [],
   "source": [
    "rfm_score_mappings = {\n",
    "    r'155|154|144|214|215|115|114|113': 'Cannot Lose Them',\n",
    "    r'255|254|245|244|253|252|243|242|235|234|225|224|153|152|145|143|142|135|134|133|125|124': 'At Risk',\n",
    "    r'331|321|312|221|213|231|241|251': 'About To Sleep',\n",
    "    r'535|534|443|434|343|334|325|324': 'Need Attention',\n",
    "    r'543|444|435|355|354|345|344|335': 'Loyal',\n",
    "    r'555|554|544|545|454|455|445': 'Champions'\n",
    "                                    r'111|112|121|131|141|151': 'Lost customers',\n",
    "r'332|322|233|232|223|222|132|123|122|212|211': 'Hibernating customers',\n",
    "r'525|524|523|522|521|515|514|513|425|424|413|414|415|315|314|313': 'Promising',\n",
    "r'512|511|422|421|412|411|311': 'New Customers',\n",
    "r'553|551|552|541|542|533|532|531|452|451|442|441|431|453|433|432|423|353|352|351|342|341|333|323': 'Potential Loyalist'\n",
    "}"
   ]
  },
  {
   "cell_type": "code",
   "execution_count": 16,
   "id": "af6d52bf",
   "metadata": {},
   "outputs": [],
   "source": [
    "# create rfm segments by using rfm score to segments mappings\n",
    "rfm_df['segment'] = rfm_df['recency_score'].astype(str) + rfm_df['frequency_score'].astype(str) + rfm_df[\n",
    "    'monetary_score'].astype(str)\n",
    "rfm_df['segment'] = rfm_df['segment'].replace(rfm_score_mappings, regex=True)\n",
    "rfm_df.head()"
   ]
  },
  {
   "cell_type": "code",
   "execution_count": 17,
   "id": "e2903e8d",
   "metadata": {},
   "outputs": [],
   "source": [
    "rfm_df = rfm_df[['recency', 'frequency', 'monetary', 'rfm_score', 'segment']]"
   ]
  },
  {
   "cell_type": "code",
   "execution_count": 128,
   "id": "9e916ba5",
   "metadata": {
    "scrolled": true
   },
   "outputs": [
    {
     "data": {
      "text/html": [
       "<div>\n",
       "<style scoped>\n",
       "    .dataframe tbody tr th:only-of-type {\n",
       "        vertical-align: middle;\n",
       "    }\n",
       "\n",
       "    .dataframe tbody tr th {\n",
       "        vertical-align: top;\n",
       "    }\n",
       "\n",
       "    .dataframe thead th {\n",
       "        text-align: right;\n",
       "    }\n",
       "</style>\n",
       "<table border=\"1\" class=\"dataframe\">\n",
       "  <thead>\n",
       "    <tr style=\"text-align: right;\">\n",
       "      <th></th>\n",
       "      <th>customer_id</th>\n",
       "      <th>recency</th>\n",
       "      <th>frequency</th>\n",
       "      <th>monetary</th>\n",
       "      <th>rfm_score</th>\n",
       "      <th>segment</th>\n",
       "      <th>order_id</th>\n",
       "      <th>order_status</th>\n",
       "      <th>order_purchase_timestamp</th>\n",
       "      <th>order_approved_at</th>\n",
       "      <th>...</th>\n",
       "      <th>review_answer_timestamp</th>\n",
       "      <th>product_category_name</th>\n",
       "      <th>product_name_lenght</th>\n",
       "      <th>product_description_lenght</th>\n",
       "      <th>product_photos_qty</th>\n",
       "      <th>product_weight_g</th>\n",
       "      <th>product_length_cm</th>\n",
       "      <th>product_height_cm</th>\n",
       "      <th>product_width_cm</th>\n",
       "      <th>product_category_name_english</th>\n",
       "    </tr>\n",
       "  </thead>\n",
       "  <tbody>\n",
       "    <tr>\n",
       "      <th>0</th>\n",
       "      <td>00012a2ce6f8dcda20d059ce98491703</td>\n",
       "      <td>299</td>\n",
       "      <td>1</td>\n",
       "      <td>114.74</td>\n",
       "      <td>213</td>\n",
       "      <td>About To Sleep</td>\n",
       "      <td>5f79b5b0931d63f1a42989eb65b9da6e</td>\n",
       "      <td>delivered</td>\n",
       "      <td>2017-11-14 16:08:26</td>\n",
       "      <td>2017-11-14 16:35:32</td>\n",
       "      <td>...</td>\n",
       "      <td>2017-12-04 12:00:07</td>\n",
       "      <td>brinquedos</td>\n",
       "      <td>55.0</td>\n",
       "      <td>889.0</td>\n",
       "      <td>1.0</td>\n",
       "      <td>4267.0</td>\n",
       "      <td>46.0</td>\n",
       "      <td>39.0</td>\n",
       "      <td>22.0</td>\n",
       "      <td>toys</td>\n",
       "    </tr>\n",
       "    <tr>\n",
       "      <th>1</th>\n",
       "      <td>13d6935a154e88a19cec61280ff67217</td>\n",
       "      <td>373</td>\n",
       "      <td>1</td>\n",
       "      <td>109.70</td>\n",
       "      <td>213</td>\n",
       "      <td>About To Sleep</td>\n",
       "      <td>12d9723638a09350ec19ea8d66073249</td>\n",
       "      <td>delivered</td>\n",
       "      <td>2017-09-01 20:05:31</td>\n",
       "      <td>2017-09-01 22:25:46</td>\n",
       "      <td>...</td>\n",
       "      <td>2017-09-13 02:13:46</td>\n",
       "      <td>brinquedos</td>\n",
       "      <td>55.0</td>\n",
       "      <td>889.0</td>\n",
       "      <td>1.0</td>\n",
       "      <td>4267.0</td>\n",
       "      <td>46.0</td>\n",
       "      <td>39.0</td>\n",
       "      <td>22.0</td>\n",
       "      <td>toys</td>\n",
       "    </tr>\n",
       "    <tr>\n",
       "      <th>2</th>\n",
       "      <td>279375c3290f45664fb0b20cde471987</td>\n",
       "      <td>328</td>\n",
       "      <td>1</td>\n",
       "      <td>107.80</td>\n",
       "      <td>213</td>\n",
       "      <td>About To Sleep</td>\n",
       "      <td>cca53f6baff9286b728cc328ca7a2d37</td>\n",
       "      <td>delivered</td>\n",
       "      <td>2017-10-16 19:01:58</td>\n",
       "      <td>2017-10-16 19:40:08</td>\n",
       "      <td>...</td>\n",
       "      <td>2017-11-01 18:17:18</td>\n",
       "      <td>brinquedos</td>\n",
       "      <td>55.0</td>\n",
       "      <td>889.0</td>\n",
       "      <td>1.0</td>\n",
       "      <td>4267.0</td>\n",
       "      <td>46.0</td>\n",
       "      <td>39.0</td>\n",
       "      <td>22.0</td>\n",
       "      <td>toys</td>\n",
       "    </tr>\n",
       "    <tr>\n",
       "      <th>3</th>\n",
       "      <td>2b685398c61b72f24fce6c289aa1d810</td>\n",
       "      <td>77</td>\n",
       "      <td>1</td>\n",
       "      <td>98.29</td>\n",
       "      <td>513</td>\n",
       "      <td>Promising</td>\n",
       "      <td>d266e87fb98640ecbbe91425c76e72f3</td>\n",
       "      <td>delivered</td>\n",
       "      <td>2018-06-26 18:03:15</td>\n",
       "      <td>2018-06-26 18:18:44</td>\n",
       "      <td>...</td>\n",
       "      <td>2018-07-24 14:20:39</td>\n",
       "      <td>brinquedos</td>\n",
       "      <td>55.0</td>\n",
       "      <td>889.0</td>\n",
       "      <td>1.0</td>\n",
       "      <td>4267.0</td>\n",
       "      <td>46.0</td>\n",
       "      <td>39.0</td>\n",
       "      <td>22.0</td>\n",
       "      <td>toys</td>\n",
       "    </tr>\n",
       "    <tr>\n",
       "      <th>4</th>\n",
       "      <td>323a3f2d3b2d3413da554ffd9e722d5d</td>\n",
       "      <td>386</td>\n",
       "      <td>1</td>\n",
       "      <td>291.47</td>\n",
       "      <td>215</td>\n",
       "      <td>Cannot Lose Them</td>\n",
       "      <td>62f7289ebfb6bb8bcf133442c92558d4</td>\n",
       "      <td>delivered</td>\n",
       "      <td>2017-08-21 17:17:20</td>\n",
       "      <td>2017-08-21 17:31:35</td>\n",
       "      <td>...</td>\n",
       "      <td>2017-08-26 21:07:14</td>\n",
       "      <td>brinquedos</td>\n",
       "      <td>55.0</td>\n",
       "      <td>889.0</td>\n",
       "      <td>1.0</td>\n",
       "      <td>4267.0</td>\n",
       "      <td>46.0</td>\n",
       "      <td>39.0</td>\n",
       "      <td>22.0</td>\n",
       "      <td>toys</td>\n",
       "    </tr>\n",
       "  </tbody>\n",
       "</table>\n",
       "<p>5 rows × 42 columns</p>\n",
       "</div>"
      ],
      "text/plain": [
       "                        customer_id  recency  frequency  monetary rfm_score  \\\n",
       "0  00012a2ce6f8dcda20d059ce98491703      299          1    114.74       213   \n",
       "1  13d6935a154e88a19cec61280ff67217      373          1    109.70       213   \n",
       "2  279375c3290f45664fb0b20cde471987      328          1    107.80       213   \n",
       "3  2b685398c61b72f24fce6c289aa1d810       77          1     98.29       513   \n",
       "4  323a3f2d3b2d3413da554ffd9e722d5d      386          1    291.47       215   \n",
       "\n",
       "            segment                          order_id order_status  \\\n",
       "0    About To Sleep  5f79b5b0931d63f1a42989eb65b9da6e    delivered   \n",
       "1    About To Sleep  12d9723638a09350ec19ea8d66073249    delivered   \n",
       "2    About To Sleep  cca53f6baff9286b728cc328ca7a2d37    delivered   \n",
       "3         Promising  d266e87fb98640ecbbe91425c76e72f3    delivered   \n",
       "4  Cannot Lose Them  62f7289ebfb6bb8bcf133442c92558d4    delivered   \n",
       "\n",
       "  order_purchase_timestamp    order_approved_at  ... review_answer_timestamp  \\\n",
       "0      2017-11-14 16:08:26  2017-11-14 16:35:32  ...     2017-12-04 12:00:07   \n",
       "1      2017-09-01 20:05:31  2017-09-01 22:25:46  ...     2017-09-13 02:13:46   \n",
       "2      2017-10-16 19:01:58  2017-10-16 19:40:08  ...     2017-11-01 18:17:18   \n",
       "3      2018-06-26 18:03:15  2018-06-26 18:18:44  ...     2018-07-24 14:20:39   \n",
       "4      2017-08-21 17:17:20  2017-08-21 17:31:35  ...     2017-08-26 21:07:14   \n",
       "\n",
       "  product_category_name product_name_lenght product_description_lenght  \\\n",
       "0            brinquedos                55.0                      889.0   \n",
       "1            brinquedos                55.0                      889.0   \n",
       "2            brinquedos                55.0                      889.0   \n",
       "3            brinquedos                55.0                      889.0   \n",
       "4            brinquedos                55.0                      889.0   \n",
       "\n",
       "   product_photos_qty product_weight_g product_length_cm  product_height_cm  \\\n",
       "0                 1.0           4267.0              46.0               39.0   \n",
       "1                 1.0           4267.0              46.0               39.0   \n",
       "2                 1.0           4267.0              46.0               39.0   \n",
       "3                 1.0           4267.0              46.0               39.0   \n",
       "4                 1.0           4267.0              46.0               39.0   \n",
       "\n",
       "  product_width_cm product_category_name_english  \n",
       "0             22.0                          toys  \n",
       "1             22.0                          toys  \n",
       "2             22.0                          toys  \n",
       "3             22.0                          toys  \n",
       "4             22.0                          toys  \n",
       "\n",
       "[5 rows x 42 columns]"
      ]
     },
     "execution_count": 128,
     "metadata": {},
     "output_type": "execute_result"
    }
   ],
   "source": [
    "# joining our data into one single dataframe\n",
    "df = rfm_df.merge(orders, how='inner', on=['customer_id'])\n",
    "df = df.merge(customers, how=\"inner\", on=[\"customer_id\"])\n",
    "df = df.merge(order_items, how=\"inner\", on=[\"order_id\"])\n",
    "df = df.merge(payments, how=\"inner\", on=[\"order_id\"])\n",
    "df = df.merge(orderreviews_data, how=\"inner\", on=[\"order_id\"])\n",
    "df = df.merge(products, how=\"inner\", on=[\"product_id\"])\n",
    "df = df.merge(products_translations, how=\"inner\", on=[\"product_category_name\"])\n",
    "\n",
    "df.head()"
   ]
  },
  {
   "cell_type": "code",
   "execution_count": 39,
   "id": "ccd41186",
   "metadata": {},
   "outputs": [],
   "source": [
    "# label encode all the columns which are of type object\n",
    "label_encoder = preprocessing.LabelEncoder()"
   ]
  },
  {
   "cell_type": "code",
   "execution_count": 41,
   "id": "3e5edad0",
   "metadata": {},
   "outputs": [
    {
     "name": "stderr",
     "output_type": "stream",
     "text": [
      "C:\\Users\\Lenovo\\AppData\\Local\\Temp\\ipykernel_18368\\3954386138.py:1: SettingWithCopyWarning: \n",
      "A value is trying to be set on a copy of a slice from a DataFrame.\n",
      "Try using .loc[row_indexer,col_indexer] = value instead\n",
      "\n",
      "See the caveats in the documentation: https://pandas.pydata.org/pandas-docs/stable/user_guide/indexing.html#returning-a-view-versus-a-copy\n",
      "  train_df['order_status']= label_encoder.fit_transform(train_df['order_status'])\n",
      "C:\\Users\\Lenovo\\AppData\\Local\\Temp\\ipykernel_18368\\3954386138.py:2: SettingWithCopyWarning: \n",
      "A value is trying to be set on a copy of a slice from a DataFrame.\n",
      "Try using .loc[row_indexer,col_indexer] = value instead\n",
      "\n",
      "See the caveats in the documentation: https://pandas.pydata.org/pandas-docs/stable/user_guide/indexing.html#returning-a-view-versus-a-copy\n",
      "  train_df['customer_zip_code_prefix']= label_encoder.fit_transform(train_df['customer_zip_code_prefix'])\n",
      "C:\\Users\\Lenovo\\AppData\\Local\\Temp\\ipykernel_18368\\3954386138.py:3: SettingWithCopyWarning: \n",
      "A value is trying to be set on a copy of a slice from a DataFrame.\n",
      "Try using .loc[row_indexer,col_indexer] = value instead\n",
      "\n",
      "See the caveats in the documentation: https://pandas.pydata.org/pandas-docs/stable/user_guide/indexing.html#returning-a-view-versus-a-copy\n",
      "  train_df['customer_city']= label_encoder.fit_transform(train_df['customer_city'])\n",
      "C:\\Users\\Lenovo\\AppData\\Local\\Temp\\ipykernel_18368\\3954386138.py:4: SettingWithCopyWarning: \n",
      "A value is trying to be set on a copy of a slice from a DataFrame.\n",
      "Try using .loc[row_indexer,col_indexer] = value instead\n",
      "\n",
      "See the caveats in the documentation: https://pandas.pydata.org/pandas-docs/stable/user_guide/indexing.html#returning-a-view-versus-a-copy\n",
      "  train_df['customer_state']= label_encoder.fit_transform(train_df['customer_state'])\n",
      "C:\\Users\\Lenovo\\AppData\\Local\\Temp\\ipykernel_18368\\3954386138.py:5: SettingWithCopyWarning: \n",
      "A value is trying to be set on a copy of a slice from a DataFrame.\n",
      "Try using .loc[row_indexer,col_indexer] = value instead\n",
      "\n",
      "See the caveats in the documentation: https://pandas.pydata.org/pandas-docs/stable/user_guide/indexing.html#returning-a-view-versus-a-copy\n",
      "  train_df['payment_type']= label_encoder.fit_transform(train_df['payment_type'])\n",
      "C:\\Users\\Lenovo\\AppData\\Local\\Temp\\ipykernel_18368\\3954386138.py:6: SettingWithCopyWarning: \n",
      "A value is trying to be set on a copy of a slice from a DataFrame.\n",
      "Try using .loc[row_indexer,col_indexer] = value instead\n",
      "\n",
      "See the caveats in the documentation: https://pandas.pydata.org/pandas-docs/stable/user_guide/indexing.html#returning-a-view-versus-a-copy\n",
      "  train_df['product_category_name_english']= label_encoder.fit_transform(train_df['product_category_name_english'])\n"
     ]
    }
   ],
   "source": [
    "train_df['order_status'] = label_encoder.fit_transform(train_df['order_status'])\n",
    "train_df['customer_zip_code_prefix'] = label_encoder.fit_transform(train_df['customer_zip_code_prefix'])\n",
    "train_df['customer_city'] = label_encoder.fit_transform(train_df['customer_city'])\n",
    "train_df['customer_state'] = label_encoder.fit_transform(train_df['customer_state'])\n",
    "train_df['payment_type'] = label_encoder.fit_transform(train_df['payment_type'])\n",
    "train_df['product_category_name_english'] = label_encoder.fit_transform(train_df['product_category_name_english'])"
   ]
  },
  {
   "cell_type": "markdown",
   "id": "00dd6fa3",
   "metadata": {},
   "source": [
    "### Select k best features using chi square "
   ]
  },
  {
   "cell_type": "code",
   "execution_count": 43,
   "id": "0fcf71ad",
   "metadata": {},
   "outputs": [],
   "source": [
    "# choose top k features using chi square test\n",
    "# we are choosing only 2 features as the runtime for the algorithm increases with more number of variables\n",
    "select = SelectKBest(chi2, k=2)"
   ]
  },
  {
   "cell_type": "code",
   "execution_count": 44,
   "id": "c57f9fd9",
   "metadata": {},
   "outputs": [],
   "source": [
    "z = select.fit_transform(train_df.drop('rfm_score', axis=1), train_df['rfm_score'])"
   ]
  },
  {
   "cell_type": "code",
   "execution_count": 45,
   "id": "be157a20",
   "metadata": {},
   "outputs": [],
   "source": [
    "filter = select.get_support()"
   ]
  },
  {
   "cell_type": "code",
   "execution_count": 46,
   "id": "053e1544",
   "metadata": {},
   "outputs": [],
   "source": [
    "z = np.array(train_df.drop('rfm_score', axis=1).columns)"
   ]
  },
  {
   "cell_type": "code",
   "execution_count": 47,
   "id": "5a22cf4f",
   "metadata": {},
   "outputs": [
    {
     "data": {
      "text/plain": [
       "array(['customer_zip_code_prefix', 'product_weight_g'], dtype=object)"
      ]
     },
     "execution_count": 47,
     "metadata": {},
     "output_type": "execute_result"
    }
   ],
   "source": [
    "z[filter]"
   ]
  },
  {
   "cell_type": "code",
   "execution_count": 156,
   "id": "b4804f66",
   "metadata": {},
   "outputs": [],
   "source": [
    "train_df = df[['customer_zip_code_prefix', 'product_weight_g', 'recency', 'frequency', 'monetary']]"
   ]
  },
  {
   "cell_type": "markdown",
   "id": "cdaa1477",
   "metadata": {},
   "source": [
    "### Clustering with DBSCAN"
   ]
  },
  {
   "cell_type": "code",
   "execution_count": 185,
   "id": "39d81243",
   "metadata": {},
   "outputs": [
    {
     "name": "stdout",
     "output_type": "stream",
     "text": [
      "CPU times: total: 516 ms\n",
      "Wall time: 163 ms\n"
     ]
    }
   ],
   "source": [
    "%%time\n",
    "db = DBSCAN().fit(train_df)"
   ]
  },
  {
   "cell_type": "code",
   "execution_count": 187,
   "id": "d200af5f",
   "metadata": {},
   "outputs": [],
   "source": [
    "labels = db.labels_"
   ]
  },
  {
   "cell_type": "code",
   "execution_count": 159,
   "id": "590de285",
   "metadata": {},
   "outputs": [
    {
     "name": "stderr",
     "output_type": "stream",
     "text": [
      "C:\\Users\\Lenovo\\AppData\\Local\\Temp\\ipykernel_18368\\2517713918.py:1: SettingWithCopyWarning: \n",
      "A value is trying to be set on a copy of a slice from a DataFrame.\n",
      "Try using .loc[row_indexer,col_indexer] = value instead\n",
      "\n",
      "See the caveats in the documentation: https://pandas.pydata.org/pandas-docs/stable/user_guide/indexing.html#returning-a-view-versus-a-copy\n",
      "  train_df['labels'] = labels\n"
     ]
    }
   ],
   "source": [
    "train_df['labels'] = labels"
   ]
  },
  {
   "attachments": {},
   "cell_type": "markdown",
   "id": "2ffe95f2",
   "metadata": {},
   "source": [
    "### get the unsupervised performance metrics"
   ]
  },
  {
   "cell_type": "code",
   "execution_count": 3,
   "id": "ee6feb7d",
   "metadata": {},
   "outputs": [
    {
     "name": "stdout",
     "output_type": "stream",
     "text": [
      "Silhouette Coefficient:  -0.817\n",
      "Calinski Harabasz Coefficient:  12.036\n"
     ]
    }
   ],
   "source": [
    "print(\"Silhouette Coefficient: %0.3f\" % metrics.silhouette_score(train_df, labels))\n",
    "print(\"Calinski Harabasz Coefficient: %0.3f\" % metrics.calinski_harabasz_score(train_df, labels))"
   ]
  }
 ],
 "metadata": {
  "kernelspec": {
   "display_name": "Python 3 (ipykernel)",
   "language": "python",
   "name": "python3"
  },
  "language_info": {
   "codemirror_mode": {
    "name": "ipython",
    "version": 3
   },
   "file_extension": ".py",
   "mimetype": "text/x-python",
   "name": "python",
   "nbconvert_exporter": "python",
   "pygments_lexer": "ipython3",
   "version": "3.10.7"
  },
  "vscode": {
   "interpreter": {
    "hash": "9f4ab0e59f96921765f7e35574ceb3881b3ea4590d6f298b6679425c054bfd07"
   }
  }
 },
 "nbformat": 4,
 "nbformat_minor": 5
}
