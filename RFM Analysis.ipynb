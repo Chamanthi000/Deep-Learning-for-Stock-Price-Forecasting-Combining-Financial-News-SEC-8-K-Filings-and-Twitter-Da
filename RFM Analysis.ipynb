{
 "cells": [
  {
   "cell_type": "code",
   "execution_count": 178,
   "id": "58242ff1",
   "metadata": {},
   "outputs": [],
   "source": [
    "from datetime import timedelta\n",
    "\n",
    "import matplotlib.pyplot as plt\n",
    "import pandas as pd\n",
    "import seaborn as sns"
   ]
  },
  {
   "cell_type": "code",
   "execution_count": 2,
   "id": "61ba4c27",
   "metadata": {},
   "outputs": [],
   "source": [
    "# read in data which have only rfm features\n",
    "orders = pd.read_csv('./data/olist_orders_dataset.csv')\n",
    "payments = pd.read_csv('./data/olist_order_payments_dataset.csv')"
   ]
  },
  {
   "cell_type": "code",
   "execution_count": 4,
   "id": "d7b6bb4b",
   "metadata": {},
   "outputs": [
    {
     "data": {
      "text/html": [
       "<div>\n",
       "<style scoped>\n",
       "    .dataframe tbody tr th:only-of-type {\n",
       "        vertical-align: middle;\n",
       "    }\n",
       "\n",
       "    .dataframe tbody tr th {\n",
       "        vertical-align: top;\n",
       "    }\n",
       "\n",
       "    .dataframe thead th {\n",
       "        text-align: right;\n",
       "    }\n",
       "</style>\n",
       "<table border=\"1\" class=\"dataframe\">\n",
       "  <thead>\n",
       "    <tr style=\"text-align: right;\">\n",
       "      <th></th>\n",
       "      <th>order_id</th>\n",
       "      <th>customer_id</th>\n",
       "      <th>order_status</th>\n",
       "      <th>order_purchase_timestamp</th>\n",
       "      <th>order_approved_at</th>\n",
       "      <th>order_delivered_carrier_date</th>\n",
       "      <th>order_delivered_customer_date</th>\n",
       "      <th>order_estimated_delivery_date</th>\n",
       "    </tr>\n",
       "  </thead>\n",
       "  <tbody>\n",
       "    <tr>\n",
       "      <th>0</th>\n",
       "      <td>e481f51cbdc54678b7cc49136f2d6af7</td>\n",
       "      <td>9ef432eb6251297304e76186b10a928d</td>\n",
       "      <td>delivered</td>\n",
       "      <td>2017-10-02 10:56:33</td>\n",
       "      <td>2017-10-02 11:07:15</td>\n",
       "      <td>2017-10-04 19:55:00</td>\n",
       "      <td>2017-10-10 21:25:13</td>\n",
       "      <td>2017-10-18 00:00:00</td>\n",
       "    </tr>\n",
       "    <tr>\n",
       "      <th>1</th>\n",
       "      <td>53cdb2fc8bc7dce0b6741e2150273451</td>\n",
       "      <td>b0830fb4747a6c6d20dea0b8c802d7ef</td>\n",
       "      <td>delivered</td>\n",
       "      <td>2018-07-24 20:41:37</td>\n",
       "      <td>2018-07-26 03:24:27</td>\n",
       "      <td>2018-07-26 14:31:00</td>\n",
       "      <td>2018-08-07 15:27:45</td>\n",
       "      <td>2018-08-13 00:00:00</td>\n",
       "    </tr>\n",
       "    <tr>\n",
       "      <th>2</th>\n",
       "      <td>47770eb9100c2d0c44946d9cf07ec65d</td>\n",
       "      <td>41ce2a54c0b03bf3443c3d931a367089</td>\n",
       "      <td>delivered</td>\n",
       "      <td>2018-08-08 08:38:49</td>\n",
       "      <td>2018-08-08 08:55:23</td>\n",
       "      <td>2018-08-08 13:50:00</td>\n",
       "      <td>2018-08-17 18:06:29</td>\n",
       "      <td>2018-09-04 00:00:00</td>\n",
       "    </tr>\n",
       "    <tr>\n",
       "      <th>3</th>\n",
       "      <td>949d5b44dbf5de918fe9c16f97b45f8a</td>\n",
       "      <td>f88197465ea7920adcdbec7375364d82</td>\n",
       "      <td>delivered</td>\n",
       "      <td>2017-11-18 19:28:06</td>\n",
       "      <td>2017-11-18 19:45:59</td>\n",
       "      <td>2017-11-22 13:39:59</td>\n",
       "      <td>2017-12-02 00:28:42</td>\n",
       "      <td>2017-12-15 00:00:00</td>\n",
       "    </tr>\n",
       "    <tr>\n",
       "      <th>4</th>\n",
       "      <td>ad21c59c0840e6cb83a9ceb5573f8159</td>\n",
       "      <td>8ab97904e6daea8866dbdbc4fb7aad2c</td>\n",
       "      <td>delivered</td>\n",
       "      <td>2018-02-13 21:18:39</td>\n",
       "      <td>2018-02-13 22:20:29</td>\n",
       "      <td>2018-02-14 19:46:34</td>\n",
       "      <td>2018-02-16 18:17:02</td>\n",
       "      <td>2018-02-26 00:00:00</td>\n",
       "    </tr>\n",
       "  </tbody>\n",
       "</table>\n",
       "</div>"
      ],
      "text/plain": [
       "                           order_id                       customer_id  \\\n",
       "0  e481f51cbdc54678b7cc49136f2d6af7  9ef432eb6251297304e76186b10a928d   \n",
       "1  53cdb2fc8bc7dce0b6741e2150273451  b0830fb4747a6c6d20dea0b8c802d7ef   \n",
       "2  47770eb9100c2d0c44946d9cf07ec65d  41ce2a54c0b03bf3443c3d931a367089   \n",
       "3  949d5b44dbf5de918fe9c16f97b45f8a  f88197465ea7920adcdbec7375364d82   \n",
       "4  ad21c59c0840e6cb83a9ceb5573f8159  8ab97904e6daea8866dbdbc4fb7aad2c   \n",
       "\n",
       "  order_status order_purchase_timestamp    order_approved_at  \\\n",
       "0    delivered      2017-10-02 10:56:33  2017-10-02 11:07:15   \n",
       "1    delivered      2018-07-24 20:41:37  2018-07-26 03:24:27   \n",
       "2    delivered      2018-08-08 08:38:49  2018-08-08 08:55:23   \n",
       "3    delivered      2017-11-18 19:28:06  2017-11-18 19:45:59   \n",
       "4    delivered      2018-02-13 21:18:39  2018-02-13 22:20:29   \n",
       "\n",
       "  order_delivered_carrier_date order_delivered_customer_date  \\\n",
       "0          2017-10-04 19:55:00           2017-10-10 21:25:13   \n",
       "1          2018-07-26 14:31:00           2018-08-07 15:27:45   \n",
       "2          2018-08-08 13:50:00           2018-08-17 18:06:29   \n",
       "3          2017-11-22 13:39:59           2017-12-02 00:28:42   \n",
       "4          2018-02-14 19:46:34           2018-02-16 18:17:02   \n",
       "\n",
       "  order_estimated_delivery_date  \n",
       "0           2017-10-18 00:00:00  \n",
       "1           2018-08-13 00:00:00  \n",
       "2           2018-09-04 00:00:00  \n",
       "3           2017-12-15 00:00:00  \n",
       "4           2018-02-26 00:00:00  "
      ]
     },
     "execution_count": 4,
     "metadata": {},
     "output_type": "execute_result"
    }
   ],
   "source": [
    "orders.head()"
   ]
  },
  {
   "cell_type": "code",
   "execution_count": 5,
   "id": "09d841ff",
   "metadata": {},
   "outputs": [
    {
     "data": {
      "text/html": [
       "<div>\n",
       "<style scoped>\n",
       "    .dataframe tbody tr th:only-of-type {\n",
       "        vertical-align: middle;\n",
       "    }\n",
       "\n",
       "    .dataframe tbody tr th {\n",
       "        vertical-align: top;\n",
       "    }\n",
       "\n",
       "    .dataframe thead th {\n",
       "        text-align: right;\n",
       "    }\n",
       "</style>\n",
       "<table border=\"1\" class=\"dataframe\">\n",
       "  <thead>\n",
       "    <tr style=\"text-align: right;\">\n",
       "      <th></th>\n",
       "      <th>order_id</th>\n",
       "      <th>payment_sequential</th>\n",
       "      <th>payment_type</th>\n",
       "      <th>payment_installments</th>\n",
       "      <th>payment_value</th>\n",
       "    </tr>\n",
       "  </thead>\n",
       "  <tbody>\n",
       "    <tr>\n",
       "      <th>0</th>\n",
       "      <td>b81ef226f3fe1789b1e8b2acac839d17</td>\n",
       "      <td>1</td>\n",
       "      <td>credit_card</td>\n",
       "      <td>8</td>\n",
       "      <td>99.33</td>\n",
       "    </tr>\n",
       "    <tr>\n",
       "      <th>1</th>\n",
       "      <td>a9810da82917af2d9aefd1278f1dcfa0</td>\n",
       "      <td>1</td>\n",
       "      <td>credit_card</td>\n",
       "      <td>1</td>\n",
       "      <td>24.39</td>\n",
       "    </tr>\n",
       "    <tr>\n",
       "      <th>2</th>\n",
       "      <td>25e8ea4e93396b6fa0d3dd708e76c1bd</td>\n",
       "      <td>1</td>\n",
       "      <td>credit_card</td>\n",
       "      <td>1</td>\n",
       "      <td>65.71</td>\n",
       "    </tr>\n",
       "    <tr>\n",
       "      <th>3</th>\n",
       "      <td>ba78997921bbcdc1373bb41e913ab953</td>\n",
       "      <td>1</td>\n",
       "      <td>credit_card</td>\n",
       "      <td>8</td>\n",
       "      <td>107.78</td>\n",
       "    </tr>\n",
       "    <tr>\n",
       "      <th>4</th>\n",
       "      <td>42fdf880ba16b47b59251dd489d4441a</td>\n",
       "      <td>1</td>\n",
       "      <td>credit_card</td>\n",
       "      <td>2</td>\n",
       "      <td>128.45</td>\n",
       "    </tr>\n",
       "  </tbody>\n",
       "</table>\n",
       "</div>"
      ],
      "text/plain": [
       "                           order_id  payment_sequential payment_type  \\\n",
       "0  b81ef226f3fe1789b1e8b2acac839d17                   1  credit_card   \n",
       "1  a9810da82917af2d9aefd1278f1dcfa0                   1  credit_card   \n",
       "2  25e8ea4e93396b6fa0d3dd708e76c1bd                   1  credit_card   \n",
       "3  ba78997921bbcdc1373bb41e913ab953                   1  credit_card   \n",
       "4  42fdf880ba16b47b59251dd489d4441a                   1  credit_card   \n",
       "\n",
       "   payment_installments  payment_value  \n",
       "0                     8          99.33  \n",
       "1                     1          24.39  \n",
       "2                     1          65.71  \n",
       "3                     8         107.78  \n",
       "4                     2         128.45  "
      ]
     },
     "execution_count": 5,
     "metadata": {},
     "output_type": "execute_result"
    }
   ],
   "source": [
    "payments.head()"
   ]
  },
  {
   "cell_type": "code",
   "execution_count": 6,
   "id": "5afc61f9",
   "metadata": {},
   "outputs": [
    {
     "data": {
      "text/plain": [
       "order_id                         object\n",
       "customer_id                      object\n",
       "order_status                     object\n",
       "order_purchase_timestamp         object\n",
       "order_approved_at                object\n",
       "order_delivered_carrier_date     object\n",
       "order_delivered_customer_date    object\n",
       "order_estimated_delivery_date    object\n",
       "dtype: object"
      ]
     },
     "execution_count": 6,
     "metadata": {},
     "output_type": "execute_result"
    }
   ],
   "source": [
    "orders.dtypes"
   ]
  },
  {
   "cell_type": "code",
   "execution_count": 7,
   "id": "13e247e1",
   "metadata": {},
   "outputs": [
    {
     "data": {
      "text/plain": [
       "order_id                 object\n",
       "payment_sequential        int64\n",
       "payment_type             object\n",
       "payment_installments      int64\n",
       "payment_value           float64\n",
       "dtype: object"
      ]
     },
     "execution_count": 7,
     "metadata": {},
     "output_type": "execute_result"
    }
   ],
   "source": [
    "payments.dtypes"
   ]
  },
  {
   "cell_type": "code",
   "execution_count": 9,
   "id": "d54f0f34",
   "metadata": {},
   "outputs": [
    {
     "data": {
      "text/html": [
       "<div>\n",
       "<style scoped>\n",
       "    .dataframe tbody tr th:only-of-type {\n",
       "        vertical-align: middle;\n",
       "    }\n",
       "\n",
       "    .dataframe tbody tr th {\n",
       "        vertical-align: top;\n",
       "    }\n",
       "\n",
       "    .dataframe thead th {\n",
       "        text-align: right;\n",
       "    }\n",
       "</style>\n",
       "<table border=\"1\" class=\"dataframe\">\n",
       "  <thead>\n",
       "    <tr style=\"text-align: right;\">\n",
       "      <th></th>\n",
       "      <th>order_id</th>\n",
       "      <th>customer_id</th>\n",
       "      <th>order_status</th>\n",
       "      <th>order_purchase_timestamp</th>\n",
       "      <th>order_approved_at</th>\n",
       "      <th>order_delivered_carrier_date</th>\n",
       "      <th>order_delivered_customer_date</th>\n",
       "      <th>order_estimated_delivery_date</th>\n",
       "    </tr>\n",
       "  </thead>\n",
       "  <tbody>\n",
       "    <tr>\n",
       "      <th>0</th>\n",
       "      <td>e481f51cbdc54678b7cc49136f2d6af7</td>\n",
       "      <td>9ef432eb6251297304e76186b10a928d</td>\n",
       "      <td>delivered</td>\n",
       "      <td>2017-10-02 10:56:33</td>\n",
       "      <td>2017-10-02 11:07:15</td>\n",
       "      <td>2017-10-04</td>\n",
       "      <td>2017-10-10 21:25:13</td>\n",
       "      <td>2017-10-18 00:00:00</td>\n",
       "    </tr>\n",
       "    <tr>\n",
       "      <th>1</th>\n",
       "      <td>53cdb2fc8bc7dce0b6741e2150273451</td>\n",
       "      <td>b0830fb4747a6c6d20dea0b8c802d7ef</td>\n",
       "      <td>delivered</td>\n",
       "      <td>2018-07-24 20:41:37</td>\n",
       "      <td>2018-07-26 03:24:27</td>\n",
       "      <td>2018-07-26</td>\n",
       "      <td>2018-08-07 15:27:45</td>\n",
       "      <td>2018-08-13 00:00:00</td>\n",
       "    </tr>\n",
       "    <tr>\n",
       "      <th>2</th>\n",
       "      <td>47770eb9100c2d0c44946d9cf07ec65d</td>\n",
       "      <td>41ce2a54c0b03bf3443c3d931a367089</td>\n",
       "      <td>delivered</td>\n",
       "      <td>2018-08-08 08:38:49</td>\n",
       "      <td>2018-08-08 08:55:23</td>\n",
       "      <td>2018-08-08</td>\n",
       "      <td>2018-08-17 18:06:29</td>\n",
       "      <td>2018-09-04 00:00:00</td>\n",
       "    </tr>\n",
       "    <tr>\n",
       "      <th>3</th>\n",
       "      <td>949d5b44dbf5de918fe9c16f97b45f8a</td>\n",
       "      <td>f88197465ea7920adcdbec7375364d82</td>\n",
       "      <td>delivered</td>\n",
       "      <td>2017-11-18 19:28:06</td>\n",
       "      <td>2017-11-18 19:45:59</td>\n",
       "      <td>2017-11-22</td>\n",
       "      <td>2017-12-02 00:28:42</td>\n",
       "      <td>2017-12-15 00:00:00</td>\n",
       "    </tr>\n",
       "    <tr>\n",
       "      <th>4</th>\n",
       "      <td>ad21c59c0840e6cb83a9ceb5573f8159</td>\n",
       "      <td>8ab97904e6daea8866dbdbc4fb7aad2c</td>\n",
       "      <td>delivered</td>\n",
       "      <td>2018-02-13 21:18:39</td>\n",
       "      <td>2018-02-13 22:20:29</td>\n",
       "      <td>2018-02-14</td>\n",
       "      <td>2018-02-16 18:17:02</td>\n",
       "      <td>2018-02-26 00:00:00</td>\n",
       "    </tr>\n",
       "    <tr>\n",
       "      <th>...</th>\n",
       "      <td>...</td>\n",
       "      <td>...</td>\n",
       "      <td>...</td>\n",
       "      <td>...</td>\n",
       "      <td>...</td>\n",
       "      <td>...</td>\n",
       "      <td>...</td>\n",
       "      <td>...</td>\n",
       "    </tr>\n",
       "    <tr>\n",
       "      <th>99436</th>\n",
       "      <td>9c5dedf39a927c1b2549525ed64a053c</td>\n",
       "      <td>39bd1228ee8140590ac3aca26f2dfe00</td>\n",
       "      <td>delivered</td>\n",
       "      <td>2017-03-09 09:54:05</td>\n",
       "      <td>2017-03-09 09:54:05</td>\n",
       "      <td>2017-03-10</td>\n",
       "      <td>2017-03-17 15:08:01</td>\n",
       "      <td>2017-03-28 00:00:00</td>\n",
       "    </tr>\n",
       "    <tr>\n",
       "      <th>99437</th>\n",
       "      <td>63943bddc261676b46f01ca7ac2f7bd8</td>\n",
       "      <td>1fca14ff2861355f6e5f14306ff977a7</td>\n",
       "      <td>delivered</td>\n",
       "      <td>2018-02-06 12:58:58</td>\n",
       "      <td>2018-02-06 13:10:37</td>\n",
       "      <td>2018-02-07</td>\n",
       "      <td>2018-02-28 17:37:56</td>\n",
       "      <td>2018-03-02 00:00:00</td>\n",
       "    </tr>\n",
       "    <tr>\n",
       "      <th>99438</th>\n",
       "      <td>83c1379a015df1e13d02aae0204711ab</td>\n",
       "      <td>1aa71eb042121263aafbe80c1b562c9c</td>\n",
       "      <td>delivered</td>\n",
       "      <td>2017-08-27 14:46:43</td>\n",
       "      <td>2017-08-27 15:04:16</td>\n",
       "      <td>2017-08-28</td>\n",
       "      <td>2017-09-21 11:24:17</td>\n",
       "      <td>2017-09-27 00:00:00</td>\n",
       "    </tr>\n",
       "    <tr>\n",
       "      <th>99439</th>\n",
       "      <td>11c177c8e97725db2631073c19f07b62</td>\n",
       "      <td>b331b74b18dc79bcdf6532d51e1637c1</td>\n",
       "      <td>delivered</td>\n",
       "      <td>2018-01-08 21:28:27</td>\n",
       "      <td>2018-01-08 21:36:21</td>\n",
       "      <td>2018-01-12</td>\n",
       "      <td>2018-01-25 23:32:54</td>\n",
       "      <td>2018-02-15 00:00:00</td>\n",
       "    </tr>\n",
       "    <tr>\n",
       "      <th>99440</th>\n",
       "      <td>66dea50a8b16d9b4dee7af250b4be1a5</td>\n",
       "      <td>edb027a75a1449115f6b43211ae02a24</td>\n",
       "      <td>delivered</td>\n",
       "      <td>2018-03-08 20:57:30</td>\n",
       "      <td>2018-03-09 11:20:28</td>\n",
       "      <td>2018-03-09</td>\n",
       "      <td>2018-03-16 13:08:30</td>\n",
       "      <td>2018-04-03 00:00:00</td>\n",
       "    </tr>\n",
       "  </tbody>\n",
       "</table>\n",
       "<p>99441 rows × 8 columns</p>\n",
       "</div>"
      ],
      "text/plain": [
       "                               order_id                       customer_id  \\\n",
       "0      e481f51cbdc54678b7cc49136f2d6af7  9ef432eb6251297304e76186b10a928d   \n",
       "1      53cdb2fc8bc7dce0b6741e2150273451  b0830fb4747a6c6d20dea0b8c802d7ef   \n",
       "2      47770eb9100c2d0c44946d9cf07ec65d  41ce2a54c0b03bf3443c3d931a367089   \n",
       "3      949d5b44dbf5de918fe9c16f97b45f8a  f88197465ea7920adcdbec7375364d82   \n",
       "4      ad21c59c0840e6cb83a9ceb5573f8159  8ab97904e6daea8866dbdbc4fb7aad2c   \n",
       "...                                 ...                               ...   \n",
       "99436  9c5dedf39a927c1b2549525ed64a053c  39bd1228ee8140590ac3aca26f2dfe00   \n",
       "99437  63943bddc261676b46f01ca7ac2f7bd8  1fca14ff2861355f6e5f14306ff977a7   \n",
       "99438  83c1379a015df1e13d02aae0204711ab  1aa71eb042121263aafbe80c1b562c9c   \n",
       "99439  11c177c8e97725db2631073c19f07b62  b331b74b18dc79bcdf6532d51e1637c1   \n",
       "99440  66dea50a8b16d9b4dee7af250b4be1a5  edb027a75a1449115f6b43211ae02a24   \n",
       "\n",
       "      order_status order_purchase_timestamp    order_approved_at  \\\n",
       "0        delivered      2017-10-02 10:56:33  2017-10-02 11:07:15   \n",
       "1        delivered      2018-07-24 20:41:37  2018-07-26 03:24:27   \n",
       "2        delivered      2018-08-08 08:38:49  2018-08-08 08:55:23   \n",
       "3        delivered      2017-11-18 19:28:06  2017-11-18 19:45:59   \n",
       "4        delivered      2018-02-13 21:18:39  2018-02-13 22:20:29   \n",
       "...            ...                      ...                  ...   \n",
       "99436    delivered      2017-03-09 09:54:05  2017-03-09 09:54:05   \n",
       "99437    delivered      2018-02-06 12:58:58  2018-02-06 13:10:37   \n",
       "99438    delivered      2017-08-27 14:46:43  2017-08-27 15:04:16   \n",
       "99439    delivered      2018-01-08 21:28:27  2018-01-08 21:36:21   \n",
       "99440    delivered      2018-03-08 20:57:30  2018-03-09 11:20:28   \n",
       "\n",
       "      order_delivered_carrier_date order_delivered_customer_date  \\\n",
       "0                       2017-10-04           2017-10-10 21:25:13   \n",
       "1                       2018-07-26           2018-08-07 15:27:45   \n",
       "2                       2018-08-08           2018-08-17 18:06:29   \n",
       "3                       2017-11-22           2017-12-02 00:28:42   \n",
       "4                       2018-02-14           2018-02-16 18:17:02   \n",
       "...                            ...                           ...   \n",
       "99436                   2017-03-10           2017-03-17 15:08:01   \n",
       "99437                   2018-02-07           2018-02-28 17:37:56   \n",
       "99438                   2017-08-28           2017-09-21 11:24:17   \n",
       "99439                   2018-01-12           2018-01-25 23:32:54   \n",
       "99440                   2018-03-09           2018-03-16 13:08:30   \n",
       "\n",
       "      order_estimated_delivery_date  \n",
       "0               2017-10-18 00:00:00  \n",
       "1               2018-08-13 00:00:00  \n",
       "2               2018-09-04 00:00:00  \n",
       "3               2017-12-15 00:00:00  \n",
       "4               2018-02-26 00:00:00  \n",
       "...                             ...  \n",
       "99436           2017-03-28 00:00:00  \n",
       "99437           2018-03-02 00:00:00  \n",
       "99438           2017-09-27 00:00:00  \n",
       "99439           2018-02-15 00:00:00  \n",
       "99440           2018-04-03 00:00:00  \n",
       "\n",
       "[99441 rows x 8 columns]"
      ]
     },
     "execution_count": 9,
     "metadata": {},
     "output_type": "execute_result"
    }
   ],
   "source": [
    "orders"
   ]
  },
  {
   "cell_type": "code",
   "execution_count": 10,
   "id": "4bbed5a8",
   "metadata": {},
   "outputs": [
    {
     "data": {
      "text/plain": [
       "order_id                            0\n",
       "customer_id                         0\n",
       "order_status                        0\n",
       "order_purchase_timestamp            0\n",
       "order_approved_at                 160\n",
       "order_delivered_carrier_date     1783\n",
       "order_delivered_customer_date    2965\n",
       "order_estimated_delivery_date       0\n",
       "dtype: int64"
      ]
     },
     "execution_count": 10,
     "metadata": {},
     "output_type": "execute_result"
    }
   ],
   "source": [
    "orders.isna().sum()"
   ]
  },
  {
   "cell_type": "code",
   "execution_count": 11,
   "id": "6d34e7a0",
   "metadata": {},
   "outputs": [],
   "source": [
    "orders = orders.dropna(subset=['order_delivered_carrier_date'])"
   ]
  },
  {
   "cell_type": "code",
   "execution_count": 12,
   "id": "2721b5b9",
   "metadata": {},
   "outputs": [
    {
     "data": {
      "text/plain": [
       "Timestamp('2018-09-12 00:00:00')"
      ]
     },
     "execution_count": 12,
     "metadata": {},
     "output_type": "execute_result"
    }
   ],
   "source": [
    "# We'll be taking the recent day plus 1 day as the present date for the rfm analysis\n",
    "recent_date = orders['order_delivered_carrier_date'].max() + timedelta(days=1)\n",
    "recent_date"
   ]
  },
  {
   "cell_type": "code",
   "execution_count": 13,
   "id": "bbef094c",
   "metadata": {},
   "outputs": [],
   "source": [
    "merged_data = orders.merge(payments, how='inner', on=['order_id'])"
   ]
  },
  {
   "cell_type": "code",
   "execution_count": 14,
   "id": "86afdc93",
   "metadata": {},
   "outputs": [],
   "source": [
    "# form the rfm dataframe by grouping by customer id and using aggregations\n",
    "rfm_df = merged_data.groupby('customer_id').agg(\n",
    "    recency=('order_delivered_carrier_date', lambda x: (recent_date - x.max()).days),\n",
    "    frequency=('payment_sequential', 'count'),\n",
    "    monetary=('payment_value', 'sum'))"
   ]
  },
  {
   "cell_type": "code",
   "execution_count": 15,
   "id": "66374fec",
   "metadata": {},
   "outputs": [
    {
     "data": {
      "text/html": [
       "<div>\n",
       "<style scoped>\n",
       "    .dataframe tbody tr th:only-of-type {\n",
       "        vertical-align: middle;\n",
       "    }\n",
       "\n",
       "    .dataframe tbody tr th {\n",
       "        vertical-align: top;\n",
       "    }\n",
       "\n",
       "    .dataframe thead th {\n",
       "        text-align: right;\n",
       "    }\n",
       "</style>\n",
       "<table border=\"1\" class=\"dataframe\">\n",
       "  <thead>\n",
       "    <tr style=\"text-align: right;\">\n",
       "      <th></th>\n",
       "      <th>recency</th>\n",
       "      <th>frequency</th>\n",
       "      <th>monetary</th>\n",
       "    </tr>\n",
       "    <tr>\n",
       "      <th>customer_id</th>\n",
       "      <th></th>\n",
       "      <th></th>\n",
       "      <th></th>\n",
       "    </tr>\n",
       "  </thead>\n",
       "  <tbody>\n",
       "    <tr>\n",
       "      <th>00012a2ce6f8dcda20d059ce98491703</th>\n",
       "      <td>299</td>\n",
       "      <td>1</td>\n",
       "      <td>114.74</td>\n",
       "    </tr>\n",
       "    <tr>\n",
       "      <th>000161a058600d5901f007fab4c27140</th>\n",
       "      <td>420</td>\n",
       "      <td>1</td>\n",
       "      <td>67.41</td>\n",
       "    </tr>\n",
       "    <tr>\n",
       "      <th>0001fd6190edaaf884bcaf3d49edf079</th>\n",
       "      <td>560</td>\n",
       "      <td>1</td>\n",
       "      <td>195.42</td>\n",
       "    </tr>\n",
       "    <tr>\n",
       "      <th>0002414f95344307404f0ace7a26f1d5</th>\n",
       "      <td>389</td>\n",
       "      <td>1</td>\n",
       "      <td>179.35</td>\n",
       "    </tr>\n",
       "    <tr>\n",
       "      <th>000379cdec625522490c315e70c7a9fb</th>\n",
       "      <td>161</td>\n",
       "      <td>1</td>\n",
       "      <td>107.01</td>\n",
       "    </tr>\n",
       "  </tbody>\n",
       "</table>\n",
       "</div>"
      ],
      "text/plain": [
       "                                  recency  frequency  monetary\n",
       "customer_id                                                   \n",
       "00012a2ce6f8dcda20d059ce98491703      299          1    114.74\n",
       "000161a058600d5901f007fab4c27140      420          1     67.41\n",
       "0001fd6190edaaf884bcaf3d49edf079      560          1    195.42\n",
       "0002414f95344307404f0ace7a26f1d5      389          1    179.35\n",
       "000379cdec625522490c315e70c7a9fb      161          1    107.01"
      ]
     },
     "execution_count": 15,
     "metadata": {},
     "output_type": "execute_result"
    }
   ],
   "source": [
    "rfm_df.head()"
   ]
  },
  {
   "cell_type": "code",
   "execution_count": 16,
   "id": "4a8189a9",
   "metadata": {},
   "outputs": [
    {
     "data": {
      "text/html": [
       "<div>\n",
       "<style scoped>\n",
       "    .dataframe tbody tr th:only-of-type {\n",
       "        vertical-align: middle;\n",
       "    }\n",
       "\n",
       "    .dataframe tbody tr th {\n",
       "        vertical-align: top;\n",
       "    }\n",
       "\n",
       "    .dataframe thead th {\n",
       "        text-align: right;\n",
       "    }\n",
       "</style>\n",
       "<table border=\"1\" class=\"dataframe\">\n",
       "  <thead>\n",
       "    <tr style=\"text-align: right;\">\n",
       "      <th></th>\n",
       "      <th>count</th>\n",
       "      <th>mean</th>\n",
       "      <th>std</th>\n",
       "      <th>min</th>\n",
       "      <th>25%</th>\n",
       "      <th>50%</th>\n",
       "      <th>75%</th>\n",
       "      <th>max</th>\n",
       "    </tr>\n",
       "  </thead>\n",
       "  <tbody>\n",
       "    <tr>\n",
       "      <th>recency</th>\n",
       "      <td>97657.0</td>\n",
       "      <td>250.736015</td>\n",
       "      <td>152.680372</td>\n",
       "      <td>1.00</td>\n",
       "      <td>127.00</td>\n",
       "      <td>231.00</td>\n",
       "      <td>362.00</td>\n",
       "      <td>704.00</td>\n",
       "    </tr>\n",
       "    <tr>\n",
       "      <th>frequency</th>\n",
       "      <td>97657.0</td>\n",
       "      <td>1.044451</td>\n",
       "      <td>0.378738</td>\n",
       "      <td>1.00</td>\n",
       "      <td>1.00</td>\n",
       "      <td>1.00</td>\n",
       "      <td>1.00</td>\n",
       "      <td>29.00</td>\n",
       "    </tr>\n",
       "    <tr>\n",
       "      <th>monetary</th>\n",
       "      <td>97657.0</td>\n",
       "      <td>159.826284</td>\n",
       "      <td>218.553900</td>\n",
       "      <td>9.59</td>\n",
       "      <td>61.93</td>\n",
       "      <td>105.28</td>\n",
       "      <td>176.26</td>\n",
       "      <td>13664.08</td>\n",
       "    </tr>\n",
       "  </tbody>\n",
       "</table>\n",
       "</div>"
      ],
      "text/plain": [
       "             count        mean         std   min     25%     50%     75%  \\\n",
       "recency    97657.0  250.736015  152.680372  1.00  127.00  231.00  362.00   \n",
       "frequency  97657.0    1.044451    0.378738  1.00    1.00    1.00    1.00   \n",
       "monetary   97657.0  159.826284  218.553900  9.59   61.93  105.28  176.26   \n",
       "\n",
       "                max  \n",
       "recency      704.00  \n",
       "frequency     29.00  \n",
       "monetary   13664.08  "
      ]
     },
     "execution_count": 16,
     "metadata": {},
     "output_type": "execute_result"
    }
   ],
   "source": [
    "rfm_df.describe().T"
   ]
  },
  {
   "cell_type": "markdown",
   "id": "117f89f4",
   "metadata": {},
   "source": [
    "### Recency"
   ]
  },
  {
   "cell_type": "code",
   "execution_count": 17,
   "id": "8df3b8c7",
   "metadata": {},
   "outputs": [
    {
     "data": {
      "image/png": "[encoded data removed]",
      "text/plain": [
       "<Figure size 360x144 with 1 Axes>"
      ]
     },
     "metadata": {
      "needs_background": "light"
     },
     "output_type": "display_data"
    }
   ],
   "source": [
    "plt.figure(figsize=(5, 2))\n",
    "sns.boxplot(x='recency', data=rfm_df)\n",
    "plt.title('Recency Boxplot');"
   ]
  },
  {
   "cell_type": "code",
   "execution_count": 18,
   "id": "29e8ddda",
   "metadata": {},
   "outputs": [
    {
     "name": "stderr",
     "output_type": "stream",
     "text": [
      "C:\\Users\\Lenovo\\AppData\\Local\\Temp\\ipykernel_18368\\1708809018.py:3: UserWarning: \n",
      "\n",
      "`distplot` is a deprecated function and will be removed in seaborn v0.14.0.\n",
      "\n",
      "Please adapt your code to use either `displot` (a figure-level function with\n",
      "similar flexibility) or `histplot` (an axes-level function for histograms).\n",
      "\n",
      "For a guide to updating your code to use the new functions, please see\n",
      "https://gist.github.com/mwaskom/de44147ed2974457ad6372750bbe5751\n",
      "\n",
      "  sns.distplot(rfm_df.recency,  bins = 55);\n"
     ]
    },
    {
     "data": {
      "image/png": "[encoded data removed]",
      "text/plain": [
       "<Figure size 720x360 with 1 Axes>"
      ]
     },
     "metadata": {
      "needs_background": "light"
     },
     "output_type": "display_data"
    }
   ],
   "source": [
    "plt.figure(figsize=(10, 5))\n",
    "plt.title('Recency (days since last order)')\n",
    "sns.distplot(rfm_df.recency, bins=55);"
   ]
  },
  {
   "cell_type": "markdown",
   "id": "9d2b609a",
   "metadata": {},
   "source": [
    "Looking at the distributions, most of the customers have their recent orders betwen 0 to 300 days"
   ]
  },
  {
   "cell_type": "markdown",
   "id": "c5e90b6b",
   "metadata": {},
   "source": [
    "### Frequency"
   ]
  },
  {
   "cell_type": "code",
   "execution_count": 19,
   "id": "5a4d46a4",
   "metadata": {},
   "outputs": [
    {
     "data": {
      "image/png": "[encoded data removed]",
      "text/plain": [
       "<Figure size 360x144 with 1 Axes>"
      ]
     },
     "metadata": {
      "needs_background": "light"
     },
     "output_type": "display_data"
    }
   ],
   "source": [
    "plt.figure(figsize=(5, 2))\n",
    "sns.boxplot(x='frequency', data=rfm_df)\n",
    "plt.title('Frequency Boxplot');"
   ]
  },
  {
   "cell_type": "code",
   "execution_count": null,
   "id": "42189191",
   "metadata": {},
   "outputs": [],
   "source": [
    "# drop outliers which are outside the interquantile range\n",
    "def drop_outliers(df, column):\n",
    "    quantile1 = df[column].quantile(0.05)\n",
    "    quantile3 = df[column].quantile(0.95)\n",
    "    iqr = quantile3 - quantile1\n",
    "    high_fence = quantile3 + 1.5 * iqr\n",
    "    low_fence = quantile1 - 1.5 * iqr\n",
    "    outliers_index = df.loc[(df[column] < low_fence) | (df[column] > high_fence)].index\n",
    "    df = pd.DataFrame(df.drop(outliers_index.to_list(), axis=0, inplace=True))\n",
    "    return df"
   ]
  },
  {
   "cell_type": "code",
   "execution_count": 21,
   "id": "733f807f",
   "metadata": {},
   "outputs": [
    {
     "data": {
      "text/html": [
       "<div>\n",
       "<style scoped>\n",
       "    .dataframe tbody tr th:only-of-type {\n",
       "        vertical-align: middle;\n",
       "    }\n",
       "\n",
       "    .dataframe tbody tr th {\n",
       "        vertical-align: top;\n",
       "    }\n",
       "\n",
       "    .dataframe thead th {\n",
       "        text-align: right;\n",
       "    }\n",
       "</style>\n",
       "<table border=\"1\" class=\"dataframe\">\n",
       "  <thead>\n",
       "    <tr style=\"text-align: right;\">\n",
       "      <th></th>\n",
       "    </tr>\n",
       "  </thead>\n",
       "  <tbody>\n",
       "  </tbody>\n",
       "</table>\n",
       "</div>"
      ],
      "text/plain": [
       "Empty DataFrame\n",
       "Columns: []\n",
       "Index: []"
      ]
     },
     "execution_count": 21,
     "metadata": {},
     "output_type": "execute_result"
    }
   ],
   "source": [
    "drop_outliers(rfm_df, 'frequency')"
   ]
  },
  {
   "cell_type": "code",
   "execution_count": 22,
   "id": "702afa86",
   "metadata": {},
   "outputs": [
    {
     "data": {
      "text/plain": [
       "Text(0.5, 1.0, 'Frequency Boxplot')"
      ]
     },
     "execution_count": 22,
     "metadata": {},
     "output_type": "execute_result"
    },
    {
     "data": {
      "image/png": "[encoded data removed]",
      "text/plain": [
       "<Figure size 360x144 with 1 Axes>"
      ]
     },
     "metadata": {
      "needs_background": "light"
     },
     "output_type": "display_data"
    }
   ],
   "source": [
    "plt.figure(figsize=(5, 2))\n",
    "sns.boxplot(x='frequency', data=rfm_df)\n",
    "plt.title('Frequency Boxplot')"
   ]
  },
  {
   "cell_type": "markdown",
   "id": "72917822",
   "metadata": {},
   "source": [
    "After dropping outliers, we are left with single value 1"
   ]
  },
  {
   "cell_type": "code",
   "execution_count": 23,
   "id": "b05c2926",
   "metadata": {},
   "outputs": [
    {
     "data": {
      "text/plain": [
       "(94752, 3)"
      ]
     },
     "execution_count": 23,
     "metadata": {},
     "output_type": "execute_result"
    }
   ],
   "source": [
    "rfm_df.shape"
   ]
  },
  {
   "cell_type": "markdown",
   "id": "ed398359",
   "metadata": {},
   "source": [
    "### Monetary"
   ]
  },
  {
   "cell_type": "code",
   "execution_count": 24,
   "id": "8dc05e6f",
   "metadata": {},
   "outputs": [
    {
     "data": {
      "text/plain": [
       "Text(0.5, 1.0, 'Monetary Boxplot')"
      ]
     },
     "execution_count": 24,
     "metadata": {},
     "output_type": "execute_result"
    },
    {
     "data": {
      "image/png": "[encoded data removed]",
      "text/plain": [
       "<Figure size 432x216 with 1 Axes>"
      ]
     },
     "metadata": {
      "needs_background": "light"
     },
     "output_type": "display_data"
    }
   ],
   "source": [
    "plt.figure(figsize=(6, 3))\n",
    "sns.boxplot(x='monetary', data=rfm_df)\n",
    "plt.title('Monetary Boxplot')"
   ]
  },
  {
   "cell_type": "code",
   "execution_count": 25,
   "id": "52c079f7",
   "metadata": {},
   "outputs": [
    {
     "data": {
      "text/html": [
       "<div>\n",
       "<style scoped>\n",
       "    .dataframe tbody tr th:only-of-type {\n",
       "        vertical-align: middle;\n",
       "    }\n",
       "\n",
       "    .dataframe tbody tr th {\n",
       "        vertical-align: top;\n",
       "    }\n",
       "\n",
       "    .dataframe thead th {\n",
       "        text-align: right;\n",
       "    }\n",
       "</style>\n",
       "<table border=\"1\" class=\"dataframe\">\n",
       "  <thead>\n",
       "    <tr style=\"text-align: right;\">\n",
       "      <th></th>\n",
       "    </tr>\n",
       "  </thead>\n",
       "  <tbody>\n",
       "  </tbody>\n",
       "</table>\n",
       "</div>"
      ],
      "text/plain": [
       "Empty DataFrame\n",
       "Columns: []\n",
       "Index: []"
      ]
     },
     "execution_count": 25,
     "metadata": {},
     "output_type": "execute_result"
    }
   ],
   "source": [
    "drop_outliers(rfm_df, 'monetary')"
   ]
  },
  {
   "cell_type": "code",
   "execution_count": 26,
   "id": "558a0f0c",
   "metadata": {},
   "outputs": [
    {
     "data": {
      "text/plain": [
       "Text(0.5, 1.0, 'Monetary Boxplot')"
      ]
     },
     "execution_count": 26,
     "metadata": {},
     "output_type": "execute_result"
    },
    {
     "data": {
      "image/png": "[encoded data removed]",
      "text/plain": [
       "<Figure size 432x216 with 1 Axes>"
      ]
     },
     "metadata": {
      "needs_background": "light"
     },
     "output_type": "display_data"
    }
   ],
   "source": [
    "plt.figure(figsize=(6, 3))\n",
    "sns.boxplot(x='monetary', data=rfm_df)\n",
    "plt.title('Monetary Boxplot')"
   ]
  },
  {
   "cell_type": "markdown",
   "id": "fcd73777",
   "metadata": {},
   "source": [
    "The boxplot looks cleaner after dropping the outliers"
   ]
  },
  {
   "cell_type": "code",
   "execution_count": 27,
   "id": "1509fe87",
   "metadata": {},
   "outputs": [
    {
     "name": "stderr",
     "output_type": "stream",
     "text": [
      "C:\\Users\\Lenovo\\AppData\\Local\\Temp\\ipykernel_18368\\3531111811.py:3: UserWarning: \n",
      "\n",
      "`distplot` is a deprecated function and will be removed in seaborn v0.14.0.\n",
      "\n",
      "Please adapt your code to use either `displot` (a figure-level function with\n",
      "similar flexibility) or `histplot` (an axes-level function for histograms).\n",
      "\n",
      "For a guide to updating your code to use the new functions, please see\n",
      "https://gist.github.com/mwaskom/de44147ed2974457ad6372750bbe5751\n",
      "\n",
      "  sns.distplot(rfm_df.monetary);\n"
     ]
    },
    {
     "data": {
      "image/png": "[encoded data removed]",
      "text/plain": [
       "<Figure size 720x360 with 1 Axes>"
      ]
     },
     "metadata": {
      "needs_background": "light"
     },
     "output_type": "display_data"
    }
   ],
   "source": [
    "plt.figure(figsize=(10, 5))\n",
    "plt.title('Monetary')\n",
    "sns.distplot(rfm_df.monetary);"
   ]
  },
  {
   "cell_type": "code",
   "execution_count": 28,
   "id": "6e12d576",
   "metadata": {},
   "outputs": [
    {
     "data": {
      "text/plain": [
       "(93837, 3)"
      ]
     },
     "execution_count": 28,
     "metadata": {},
     "output_type": "execute_result"
    }
   ],
   "source": [
    "rfm_df.shape"
   ]
  },
  {
   "cell_type": "markdown",
   "id": "497763b4",
   "metadata": {},
   "source": [
    "### Assign Scores for each column"
   ]
  },
  {
   "cell_type": "code",
   "execution_count": 29,
   "id": "0194f03e",
   "metadata": {},
   "outputs": [],
   "source": [
    "rfm_df[\"recency_score\"] = pd.qcut(rfm_df['recency'], 5, labels=[5, 4, 3, 2, 1])\n",
    "rfm_df[\"frequency_score\"] = pd.qcut(rfm_df['frequency'].rank(method=\"first\"), 5, labels=[1, 2, 3, 4, 5])\n",
    "rfm_df[\"monetary_score\"] = pd.qcut(rfm_df['monetary'], 5, labels=[1, 2, 3, 4, 5])"
   ]
  },
  {
   "cell_type": "code",
   "execution_count": 30,
   "id": "a3a381b4",
   "metadata": {},
   "outputs": [],
   "source": [
    "rfm_df['rfm_score'] = rfm_df.recency_score.astype(str) + rfm_df.frequency_score.astype(\n",
    "    str) + rfm_df.monetary_score.astype(str)"
   ]
  },
  {
   "cell_type": "code",
   "execution_count": 31,
   "id": "a8b23a29",
   "metadata": {},
   "outputs": [
    {
     "data": {
      "text/html": [
       "<div>\n",
       "<style scoped>\n",
       "    .dataframe tbody tr th:only-of-type {\n",
       "        vertical-align: middle;\n",
       "    }\n",
       "\n",
       "    .dataframe tbody tr th {\n",
       "        vertical-align: top;\n",
       "    }\n",
       "\n",
       "    .dataframe thead th {\n",
       "        text-align: right;\n",
       "    }\n",
       "</style>\n",
       "<table border=\"1\" class=\"dataframe\">\n",
       "  <thead>\n",
       "    <tr style=\"text-align: right;\">\n",
       "      <th></th>\n",
       "      <th>recency</th>\n",
       "      <th>frequency</th>\n",
       "      <th>monetary</th>\n",
       "      <th>recency_score</th>\n",
       "      <th>frequency_score</th>\n",
       "      <th>monetary_score</th>\n",
       "      <th>rfm_score</th>\n",
       "    </tr>\n",
       "    <tr>\n",
       "      <th>customer_id</th>\n",
       "      <th></th>\n",
       "      <th></th>\n",
       "      <th></th>\n",
       "      <th></th>\n",
       "      <th></th>\n",
       "      <th></th>\n",
       "      <th></th>\n",
       "    </tr>\n",
       "  </thead>\n",
       "  <tbody>\n",
       "    <tr>\n",
       "      <th>00012a2ce6f8dcda20d059ce98491703</th>\n",
       "      <td>299</td>\n",
       "      <td>1</td>\n",
       "      <td>114.74</td>\n",
       "      <td>2</td>\n",
       "      <td>1</td>\n",
       "      <td>3</td>\n",
       "      <td>213</td>\n",
       "    </tr>\n",
       "    <tr>\n",
       "      <th>000161a058600d5901f007fab4c27140</th>\n",
       "      <td>420</td>\n",
       "      <td>1</td>\n",
       "      <td>67.41</td>\n",
       "      <td>1</td>\n",
       "      <td>1</td>\n",
       "      <td>2</td>\n",
       "      <td>112</td>\n",
       "    </tr>\n",
       "    <tr>\n",
       "      <th>0001fd6190edaaf884bcaf3d49edf079</th>\n",
       "      <td>560</td>\n",
       "      <td>1</td>\n",
       "      <td>195.42</td>\n",
       "      <td>1</td>\n",
       "      <td>1</td>\n",
       "      <td>4</td>\n",
       "      <td>114</td>\n",
       "    </tr>\n",
       "    <tr>\n",
       "      <th>0002414f95344307404f0ace7a26f1d5</th>\n",
       "      <td>389</td>\n",
       "      <td>1</td>\n",
       "      <td>179.35</td>\n",
       "      <td>2</td>\n",
       "      <td>1</td>\n",
       "      <td>4</td>\n",
       "      <td>214</td>\n",
       "    </tr>\n",
       "    <tr>\n",
       "      <th>000379cdec625522490c315e70c7a9fb</th>\n",
       "      <td>161</td>\n",
       "      <td>1</td>\n",
       "      <td>107.01</td>\n",
       "      <td>4</td>\n",
       "      <td>1</td>\n",
       "      <td>3</td>\n",
       "      <td>413</td>\n",
       "    </tr>\n",
       "    <tr>\n",
       "      <th>...</th>\n",
       "      <td>...</td>\n",
       "      <td>...</td>\n",
       "      <td>...</td>\n",
       "      <td>...</td>\n",
       "      <td>...</td>\n",
       "      <td>...</td>\n",
       "      <td>...</td>\n",
       "    </tr>\n",
       "    <tr>\n",
       "      <th>fffb97495f78be80e2759335275df2aa</th>\n",
       "      <td>238</td>\n",
       "      <td>1</td>\n",
       "      <td>61.01</td>\n",
       "      <td>3</td>\n",
       "      <td>5</td>\n",
       "      <td>2</td>\n",
       "      <td>352</td>\n",
       "    </tr>\n",
       "    <tr>\n",
       "      <th>fffcb937e9dd47a13f05ecb8290f4d3e</th>\n",
       "      <td>179</td>\n",
       "      <td>1</td>\n",
       "      <td>91.91</td>\n",
       "      <td>4</td>\n",
       "      <td>5</td>\n",
       "      <td>3</td>\n",
       "      <td>453</td>\n",
       "    </tr>\n",
       "    <tr>\n",
       "      <th>fffeda5b6d849fbd39689bb92087f431</th>\n",
       "      <td>110</td>\n",
       "      <td>1</td>\n",
       "      <td>63.13</td>\n",
       "      <td>4</td>\n",
       "      <td>5</td>\n",
       "      <td>2</td>\n",
       "      <td>452</td>\n",
       "    </tr>\n",
       "    <tr>\n",
       "      <th>ffff42319e9b2d713724ae527742af25</th>\n",
       "      <td>89</td>\n",
       "      <td>1</td>\n",
       "      <td>214.13</td>\n",
       "      <td>5</td>\n",
       "      <td>5</td>\n",
       "      <td>5</td>\n",
       "      <td>555</td>\n",
       "    </tr>\n",
       "    <tr>\n",
       "      <th>ffffa3172527f765de70084a7e53aae8</th>\n",
       "      <td>369</td>\n",
       "      <td>1</td>\n",
       "      <td>45.50</td>\n",
       "      <td>2</td>\n",
       "      <td>5</td>\n",
       "      <td>1</td>\n",
       "      <td>251</td>\n",
       "    </tr>\n",
       "  </tbody>\n",
       "</table>\n",
       "<p>93837 rows × 7 columns</p>\n",
       "</div>"
      ],
      "text/plain": [
       "                                  recency  frequency  monetary recency_score  \\\n",
       "customer_id                                                                    \n",
       "00012a2ce6f8dcda20d059ce98491703      299          1    114.74             2   \n",
       "000161a058600d5901f007fab4c27140      420          1     67.41             1   \n",
       "0001fd6190edaaf884bcaf3d49edf079      560          1    195.42             1   \n",
       "0002414f95344307404f0ace7a26f1d5      389          1    179.35             2   \n",
       "000379cdec625522490c315e70c7a9fb      161          1    107.01             4   \n",
       "...                                   ...        ...       ...           ...   \n",
       "fffb97495f78be80e2759335275df2aa      238          1     61.01             3   \n",
       "fffcb937e9dd47a13f05ecb8290f4d3e      179          1     91.91             4   \n",
       "fffeda5b6d849fbd39689bb92087f431      110          1     63.13             4   \n",
       "ffff42319e9b2d713724ae527742af25       89          1    214.13             5   \n",
       "ffffa3172527f765de70084a7e53aae8      369          1     45.50             2   \n",
       "\n",
       "                                 frequency_score monetary_score rfm_score  \n",
       "customer_id                                                                \n",
       "00012a2ce6f8dcda20d059ce98491703               1              3       213  \n",
       "000161a058600d5901f007fab4c27140               1              2       112  \n",
       "0001fd6190edaaf884bcaf3d49edf079               1              4       114  \n",
       "0002414f95344307404f0ace7a26f1d5               1              4       214  \n",
       "000379cdec625522490c315e70c7a9fb               1              3       413  \n",
       "...                                          ...            ...       ...  \n",
       "fffb97495f78be80e2759335275df2aa               5              2       352  \n",
       "fffcb937e9dd47a13f05ecb8290f4d3e               5              3       453  \n",
       "fffeda5b6d849fbd39689bb92087f431               5              2       452  \n",
       "ffff42319e9b2d713724ae527742af25               5              5       555  \n",
       "ffffa3172527f765de70084a7e53aae8               5              1       251  \n",
       "\n",
       "[93837 rows x 7 columns]"
      ]
     },
     "execution_count": 31,
     "metadata": {},
     "output_type": "execute_result"
    }
   ],
   "source": [
    "rfm_df"
   ]
  },
  {
   "cell_type": "markdown",
   "id": "5c73a0b8",
   "metadata": {},
   "source": [
    "The segments mapped to the scores are obtained from bloomreach documentation - https://documentation.bloomreach.com/engagement/docs/rfm-segmentation"
   ]
  },
  {
   "cell_type": "code",
   "execution_count": 32,
   "id": "d0a3bc23",
   "metadata": {},
   "outputs": [],
   "source": [
    "rfm_score_mappings = {\n",
    "    r'155|154|144|214|215|115|114|113': 'Cannot Lose Them',\n",
    "    r'255|254|245|244|253|252|243|242|235|234|225|224|153|152|145|143|142|135|134|133|125|124': 'At Risk',\n",
    "    r'331|321|312|221|213|231|241|251': 'About To Sleep',\n",
    "    r'535|534|443|434|343|334|325|324': 'Need Attention',\n",
    "    r'543|444|435|355|354|345|344|335': 'Loyal',\n",
    "    r'555|554|544|545|454|455|445': 'Champions'\n",
    "                                    r'111|112|121|131|141|151': 'Lost customers',\n",
    "r'332|322|233|232|223|222|132|123|122|212|211': 'Hibernating customers',\n",
    "r'525|524|523|522|521|515|514|513|425|424|413|414|415|315|314|313': 'Promising',\n",
    "r'512|511|422|421|412|411|311': 'New Customers',\n",
    "r'553|551|552|541|542|533|532|531|452|451|442|441|431|453|433|432|423|353|352|351|342|341|333|323': 'Potential Loyalist'\n",
    "}"
   ]
  },
  {
   "cell_type": "code",
   "execution_count": 33,
   "id": "bdd37e9d",
   "metadata": {},
   "outputs": [
    {
     "data": {
      "text/html": [
       "<div>\n",
       "<style scoped>\n",
       "    .dataframe tbody tr th:only-of-type {\n",
       "        vertical-align: middle;\n",
       "    }\n",
       "\n",
       "    .dataframe tbody tr th {\n",
       "        vertical-align: top;\n",
       "    }\n",
       "\n",
       "    .dataframe thead th {\n",
       "        text-align: right;\n",
       "    }\n",
       "</style>\n",
       "<table border=\"1\" class=\"dataframe\">\n",
       "  <thead>\n",
       "    <tr style=\"text-align: right;\">\n",
       "      <th></th>\n",
       "      <th>recency</th>\n",
       "      <th>frequency</th>\n",
       "      <th>monetary</th>\n",
       "      <th>recency_score</th>\n",
       "      <th>frequency_score</th>\n",
       "      <th>monetary_score</th>\n",
       "      <th>rfm_score</th>\n",
       "      <th>segment</th>\n",
       "    </tr>\n",
       "    <tr>\n",
       "      <th>customer_id</th>\n",
       "      <th></th>\n",
       "      <th></th>\n",
       "      <th></th>\n",
       "      <th></th>\n",
       "      <th></th>\n",
       "      <th></th>\n",
       "      <th></th>\n",
       "      <th></th>\n",
       "    </tr>\n",
       "  </thead>\n",
       "  <tbody>\n",
       "    <tr>\n",
       "      <th>00012a2ce6f8dcda20d059ce98491703</th>\n",
       "      <td>299</td>\n",
       "      <td>1</td>\n",
       "      <td>114.74</td>\n",
       "      <td>2</td>\n",
       "      <td>1</td>\n",
       "      <td>3</td>\n",
       "      <td>213</td>\n",
       "      <td>About To Sleep</td>\n",
       "    </tr>\n",
       "    <tr>\n",
       "      <th>000161a058600d5901f007fab4c27140</th>\n",
       "      <td>420</td>\n",
       "      <td>1</td>\n",
       "      <td>67.41</td>\n",
       "      <td>1</td>\n",
       "      <td>1</td>\n",
       "      <td>2</td>\n",
       "      <td>112</td>\n",
       "      <td>Lost customers</td>\n",
       "    </tr>\n",
       "    <tr>\n",
       "      <th>0001fd6190edaaf884bcaf3d49edf079</th>\n",
       "      <td>560</td>\n",
       "      <td>1</td>\n",
       "      <td>195.42</td>\n",
       "      <td>1</td>\n",
       "      <td>1</td>\n",
       "      <td>4</td>\n",
       "      <td>114</td>\n",
       "      <td>Cannot Lose Them</td>\n",
       "    </tr>\n",
       "    <tr>\n",
       "      <th>0002414f95344307404f0ace7a26f1d5</th>\n",
       "      <td>389</td>\n",
       "      <td>1</td>\n",
       "      <td>179.35</td>\n",
       "      <td>2</td>\n",
       "      <td>1</td>\n",
       "      <td>4</td>\n",
       "      <td>214</td>\n",
       "      <td>Cannot Lose Them</td>\n",
       "    </tr>\n",
       "    <tr>\n",
       "      <th>000379cdec625522490c315e70c7a9fb</th>\n",
       "      <td>161</td>\n",
       "      <td>1</td>\n",
       "      <td>107.01</td>\n",
       "      <td>4</td>\n",
       "      <td>1</td>\n",
       "      <td>3</td>\n",
       "      <td>413</td>\n",
       "      <td>Promising</td>\n",
       "    </tr>\n",
       "  </tbody>\n",
       "</table>\n",
       "</div>"
      ],
      "text/plain": [
       "                                  recency  frequency  monetary recency_score  \\\n",
       "customer_id                                                                    \n",
       "00012a2ce6f8dcda20d059ce98491703      299          1    114.74             2   \n",
       "000161a058600d5901f007fab4c27140      420          1     67.41             1   \n",
       "0001fd6190edaaf884bcaf3d49edf079      560          1    195.42             1   \n",
       "0002414f95344307404f0ace7a26f1d5      389          1    179.35             2   \n",
       "000379cdec625522490c315e70c7a9fb      161          1    107.01             4   \n",
       "\n",
       "                                 frequency_score monetary_score rfm_score  \\\n",
       "customer_id                                                                 \n",
       "00012a2ce6f8dcda20d059ce98491703               1              3       213   \n",
       "000161a058600d5901f007fab4c27140               1              2       112   \n",
       "0001fd6190edaaf884bcaf3d49edf079               1              4       114   \n",
       "0002414f95344307404f0ace7a26f1d5               1              4       214   \n",
       "000379cdec625522490c315e70c7a9fb               1              3       413   \n",
       "\n",
       "                                           segment  \n",
       "customer_id                                         \n",
       "00012a2ce6f8dcda20d059ce98491703    About To Sleep  \n",
       "000161a058600d5901f007fab4c27140    Lost customers  \n",
       "0001fd6190edaaf884bcaf3d49edf079  Cannot Lose Them  \n",
       "0002414f95344307404f0ace7a26f1d5  Cannot Lose Them  \n",
       "000379cdec625522490c315e70c7a9fb         Promising  "
      ]
     },
     "execution_count": 33,
     "metadata": {},
     "output_type": "execute_result"
    }
   ],
   "source": [
    "# create rfm segments by using rfm score to segments mappings\n",
    "rfm_df['segment'] = rfm_df['recency_score'].astype(str) + rfm_df['frequency_score'].astype(str) + rfm_df[\n",
    "    'monetary_score'].astype(str)\n",
    "rfm_df['segment'] = rfm_df['segment'].replace(rfm_score_mappings, regex=True)\n",
    "rfm_df.head()"
   ]
  },
  {
   "cell_type": "code",
   "execution_count": 34,
   "id": "be5efa06",
   "metadata": {},
   "outputs": [
    {
     "data": {
      "text/plain": [
       "Potential Loyalist       17613\n",
       "At Risk                  16487\n",
       "Promising                12121\n",
       "Hibernating customers     8366\n",
       "Need Attention            6213\n",
       "Loyal                     6058\n",
       "About To Sleep            5962\n",
       "Cannot Lose Them          5744\n",
       "Champions                 5376\n",
       "New Customers             5222\n",
       "Lost customers            4675\n",
       "Name: segment, dtype: int64"
      ]
     },
     "execution_count": 34,
     "metadata": {},
     "output_type": "execute_result"
    }
   ],
   "source": [
    "rfm_df['segment'].value_counts()"
   ]
  },
  {
   "cell_type": "code",
   "execution_count": 35,
   "id": "442f80a2",
   "metadata": {},
   "outputs": [
    {
     "data": {
      "text/plain": [
       "Text(0, 0.5, 'Customer Count')"
      ]
     },
     "execution_count": 35,
     "metadata": {},
     "output_type": "execute_result"
    },
    {
     "data": {
      "image/png": "[encoded data removed]",
      "text/plain": [
       "<Figure size 1440x864 with 1 Axes>"
      ]
     },
     "metadata": {
      "needs_background": "light"
     },
     "output_type": "display_data"
    }
   ],
   "source": [
    "plt.figure(figsize=(20, 12))\n",
    "plt.title('Customer Segment Distribution')\n",
    "plt.xlabel('Customer Segments')\n",
    "sns.barplot(x=rfm_df.segment.value_counts().index, y=rfm_df.segment.value_counts())\n",
    "plt.ylabel('Customer Count')"
   ]
  },
  {
   "cell_type": "markdown",
   "id": "d9ff9b4b",
   "metadata": {},
   "source": [
    "#### The following table gives the customer segment description and suggested future action to effectively engage them"
   ]
  },
  {
   "cell_type": "markdown",
   "id": "3a7fb5f1",
   "metadata": {},
   "source": [
    "|Segment|\tActivity|\tActionable Tip|\n",
    "| --- | --- | --- |\n",
    "Champions|\tBought recently, order often and spend the most.|\tReward them. Can be early adopters of new products. Will promote your brand. Most likely to send referrals.|\n",
    "Loyal|\tOrders regularly. Responsive to promotions.|\tUpsell higher value products. Ask for reviews.|\n",
    "Potential Loyalists|\tRecent customers who spent good amounts.\t|Offer membership / loyalty program. Keep them engaged. Offer personalized recommendations.|\n",
    "New Customers|\tBought most recently.\t|Provide on-boarding support, give them early access, start building relationship.|\n",
    "Promising|\tPotential loyalist a few months ago. Spends frequently and a good amount. But the last purchase was several weeks ago.\t|Offer coupons. Bring them back to the platform and keep them engaged. Offer personalized recommendations.|\n",
    "Need attention|\tCore customers whose last purchase happened more than one month ago.\t|Make limited time offers. Offer personalized recommendations.|\n",
    "About to sleep|\tMade their last purchase a long time ago but in the last 4 weeks either visited the site or opened an email.\t|Make subject lines of emails very personalized. Revive their interest by a specific discount on a specific product.|\n",
    "Cannot Lose Them|\tMade the largest orders, and often. But haven’t returned for a long time.\t|Win them back via renewals or newer products, don’t lose them to competition. Talk to them if necessary. Spend time on highest possible personalization.|\n",
    "At Risk| Similar to 'Cannot Lose Them' but with smaller monetary and frequency value.\t|Provide helpful resources on the site. Send personalized emails.|\n",
    "Hibernating customers|\tCustomers who made smaller and infrequent purchases before but haven't purchased anything in a long time.\t|Include them in your standard email communication but regularly check if they don't flag your content as spam. Do not overspend on this segment.|\n",
    "Lost|\tMade last purchase long time ago and didn’t engage at all in the last 4 weeks.|\tRevive interest with reach out campaign. Ignore otherwise.|"
   ]
  }
 ],
 "metadata": {
  "kernelspec": {
   "display_name": "Python 3 (ipykernel)",
   "language": "python",
   "name": "python3"
  },
  "language_info": {
   "codemirror_mode": {
    "name": "ipython",
    "version": 3
   },
   "file_extension": ".py",
   "mimetype": "text/x-python",
   "name": "python",
   "nbconvert_exporter": "python",
   "pygments_lexer": "ipython3",
   "version": "3.10.7"
  },
  "vscode": {
   "interpreter": {
    "hash": "9f4ab0e59f96921765f7e35574ceb3881b3ea4590d6f298b6679425c054bfd07"
   }
  }
 },
 "nbformat": 4,
 "nbformat_minor": 5
}
